{
  "nbformat": 4,
  "nbformat_minor": 0,
  "metadata": {
    "colab": {
      "name": "Handson_ML_CNN.ipynb",
      "provenance": [],
      "authorship_tag": "ABX9TyPXpn1xfYyTVPtDEJcKp94T",
      "include_colab_link": true
    },
    "kernelspec": {
      "name": "python3",
      "display_name": "Python 3"
    },
    "accelerator": "GPU"
  },
  "cells": [
    {
      "cell_type": "markdown",
      "metadata": {
        "id": "view-in-github",
        "colab_type": "text"
      },
      "source": [
        "<a href=\"https://colab.research.google.com/github/Zixin-Yong/handson-ml2/blob/master/Handson_ML_CNN.ipynb\" target=\"_parent\"><img src=\"https://colab.research.google.com/assets/colab-badge.svg\" alt=\"Open In Colab\"/></a>"
      ]
    },
    {
      "cell_type": "code",
      "metadata": {
        "id": "z-rSPsYqLfW8",
        "colab_type": "code",
        "colab": {}
      },
      "source": [
        "import tensorflow.keras as keras\n",
        "from tensorflow.keras.layers import Conv2D, MaxPooling2D, Flatten, Dense, Dropout, BatchNormalization\n",
        "from functools import partial \n",
        "\n",
        "# Fashion Mnist\n",
        "fashion_mnist = keras.datasets.fashion_mnist\n",
        "(X_train_full, y_train_full),(X_test, y_test) = fashion_mnist.load_data()\n",
        "X_valid, X_train = X_train_full[:5000] / 255.0, X_train_full[5000:] / 255.0\n",
        "y_valid, y_train = y_train_full[:5000], y_train_full[5000:]\n",
        "class_names = [\"T-shirt/top\", \"Trouser\", \"Pullover\", \"Dress\", \"Coat\",\n",
        "\"Sandal\", \"Shirt\", \"Sneaker\", \"Bag\", \"Ankle boot\"]\n",
        "\n",
        "X_train = X_train.reshape((X_train.shape[0], 28, 28, 1))\n",
        "X_valid = X_valid.reshape((X_valid.shape[0], 28, 28, 1))\n",
        "X_test = X_test.reshape((X_test.shape[0], 28, 28, 1))\n",
        "\n"
      ],
      "execution_count": 0,
      "outputs": []
    },
    {
      "cell_type": "code",
      "metadata": {
        "id": "OZvq3gbENuy9",
        "colab_type": "code",
        "colab": {
          "base_uri": "https://localhost:8080/",
          "height": 341
        },
        "outputId": "7275bfa4-98d1-441e-ba40-b409770c5568"
      },
      "source": [
        "import tensorflow as tf\n",
        "print(tf.__version__)\n",
        "print(tf.test.gpu_device_name())\n",
        "!/opt/bin/nvidia-smi"
      ],
      "execution_count": 15,
      "outputs": [
        {
          "output_type": "stream",
          "text": [
            "1.15.0\n",
            "/device:GPU:0\n",
            "Fri Feb  7 15:28:06 2020       \n",
            "+-----------------------------------------------------------------------------+\n",
            "| NVIDIA-SMI 418.67       Driver Version: 418.67       CUDA Version: 10.1     |\n",
            "|-------------------------------+----------------------+----------------------+\n",
            "| GPU  Name        Persistence-M| Bus-Id        Disp.A | Volatile Uncorr. ECC |\n",
            "| Fan  Temp  Perf  Pwr:Usage/Cap|         Memory-Usage | GPU-Util  Compute M. |\n",
            "|===============================+======================+======================|\n",
            "|   0  Tesla T4            Off  | 00000000:00:04.0 Off |                    0 |\n",
            "| N/A   70C    P0    29W /  70W |   2659MiB / 15079MiB |      0%      Default |\n",
            "+-------------------------------+----------------------+----------------------+\n",
            "                                                                               \n",
            "+-----------------------------------------------------------------------------+\n",
            "| Processes:                                                       GPU Memory |\n",
            "|  GPU       PID   Type   Process name                             Usage      |\n",
            "|=============================================================================|\n",
            "+-----------------------------------------------------------------------------+\n"
          ],
          "name": "stdout"
        }
      ]
    },
    {
      "cell_type": "code",
      "metadata": {
        "id": "pX2Vb3q4LnAf",
        "colab_type": "code",
        "colab": {
          "base_uri": "https://localhost:8080/",
          "height": 845
        },
        "outputId": "e1bc7aef-f5e8-44dc-cbee-a6202a001d3f"
      },
      "source": [
        "DefaulConv2D = partial(Conv2D, kernel_size=3, activation='relu', padding='same')\n",
        "\n",
        "model = keras.models.Sequential([\n",
        "    DefaulConv2D(filters=64, kernel_size=7, input_shape=[28,28,1]),\n",
        "    MaxPooling2D(pool_size=2),\n",
        "    DefaulConv2D(filters=128),\n",
        "    DefaulConv2D(filters=128),\n",
        "    MaxPooling2D(pool_size=2),\n",
        "    DefaulConv2D(filters=256),\n",
        "    DefaulConv2D(filters=256), #to make 1 million parameters\n",
        "    MaxPooling2D(pool_size=2),\n",
        "    Flatten(),\n",
        "    Dense(units=128, activation='relu'),\n",
        "    Dropout(0.5),\n",
        "    Dense(units=64, activation='relu'),\n",
        "    Dropout(0.5),\n",
        "    Dense(units=10, activation='softmax')\n",
        "])\n",
        "\n",
        "model.summary() "
      ],
      "execution_count": 10,
      "outputs": [
        {
          "output_type": "stream",
          "text": [
            "Model: \"sequential_2\"\n",
            "_________________________________________________________________\n",
            "Layer (type)                 Output Shape              Param #   \n",
            "=================================================================\n",
            "conv2d_10 (Conv2D)           (None, 28, 28, 64)        3200      \n",
            "_________________________________________________________________\n",
            "batch_normalization (BatchNo (None, 28, 28, 64)        256       \n",
            "_________________________________________________________________\n",
            "max_pooling2d_6 (MaxPooling2 (None, 14, 14, 64)        0         \n",
            "_________________________________________________________________\n",
            "conv2d_11 (Conv2D)           (None, 14, 14, 128)       73856     \n",
            "_________________________________________________________________\n",
            "batch_normalization_1 (Batch (None, 14, 14, 128)       512       \n",
            "_________________________________________________________________\n",
            "conv2d_12 (Conv2D)           (None, 14, 14, 128)       147584    \n",
            "_________________________________________________________________\n",
            "batch_normalization_2 (Batch (None, 14, 14, 128)       512       \n",
            "_________________________________________________________________\n",
            "max_pooling2d_7 (MaxPooling2 (None, 7, 7, 128)         0         \n",
            "_________________________________________________________________\n",
            "conv2d_13 (Conv2D)           (None, 7, 7, 256)         295168    \n",
            "_________________________________________________________________\n",
            "batch_normalization_3 (Batch (None, 7, 7, 256)         1024      \n",
            "_________________________________________________________________\n",
            "conv2d_14 (Conv2D)           (None, 7, 7, 256)         590080    \n",
            "_________________________________________________________________\n",
            "batch_normalization_4 (Batch (None, 7, 7, 256)         1024      \n",
            "_________________________________________________________________\n",
            "max_pooling2d_8 (MaxPooling2 (None, 3, 3, 256)         0         \n",
            "_________________________________________________________________\n",
            "flatten_2 (Flatten)          (None, 2304)              0         \n",
            "_________________________________________________________________\n",
            "dense_6 (Dense)              (None, 128)               295040    \n",
            "_________________________________________________________________\n",
            "dropout_4 (Dropout)          (None, 128)               0         \n",
            "_________________________________________________________________\n",
            "dense_7 (Dense)              (None, 64)                8256      \n",
            "_________________________________________________________________\n",
            "dropout_5 (Dropout)          (None, 64)                0         \n",
            "_________________________________________________________________\n",
            "dense_8 (Dense)              (None, 10)                650       \n",
            "=================================================================\n",
            "Total params: 1,417,162\n",
            "Trainable params: 1,415,498\n",
            "Non-trainable params: 1,664\n",
            "_________________________________________________________________\n"
          ],
          "name": "stdout"
        }
      ]
    },
    {
      "cell_type": "code",
      "metadata": {
        "id": "5siWTIXWLoGL",
        "colab_type": "code",
        "colab": {
          "base_uri": "https://localhost:8080/",
          "height": 702
        },
        "outputId": "7c5728ec-21e6-43d3-fadd-54cb4b4a5582"
      },
      "source": [
        "#model.compile(loss='sparse_categorical_crossentropy', optimizer='nadam', metrics=[\"accuracy\"])\n",
        "history = model.fit(X_train, y_train, batch_size=32, epochs=10, validation_data=(X_valid, y_valid))\n",
        "\n",
        "import pandas as pd\n",
        "import matplotlib.pyplot as plt\n",
        "pd.DataFrame(history.history).plot(figsize=(8, 5))\n",
        "plt.grid(True)\n",
        "plt.gca().set_ylim(0, 1) # set the vertical range to [0-1]\n",
        "plt.show()"
      ],
      "execution_count": 13,
      "outputs": [
        {
          "output_type": "stream",
          "text": [
            "Train on 55000 samples, validate on 5000 samples\n",
            "Epoch 1/10\n",
            "55000/55000 [==============================] - 18s 334us/sample - loss: 0.2363 - acc: 0.9201 - val_loss: 0.2371 - val_acc: 0.9200\n",
            "Epoch 2/10\n",
            "55000/55000 [==============================] - 19s 340us/sample - loss: 0.2222 - acc: 0.9248 - val_loss: 0.2616 - val_acc: 0.9138\n",
            "Epoch 3/10\n",
            "55000/55000 [==============================] - 18s 334us/sample - loss: 0.1988 - acc: 0.9315 - val_loss: 0.3292 - val_acc: 0.8816\n",
            "Epoch 4/10\n",
            "55000/55000 [==============================] - 18s 333us/sample - loss: 0.1856 - acc: 0.9381 - val_loss: 0.2947 - val_acc: 0.8914\n",
            "Epoch 5/10\n",
            "55000/55000 [==============================] - 18s 332us/sample - loss: 0.1724 - acc: 0.9423 - val_loss: 0.2405 - val_acc: 0.9172\n",
            "Epoch 6/10\n",
            "55000/55000 [==============================] - 18s 333us/sample - loss: 0.1561 - acc: 0.9472 - val_loss: 0.2816 - val_acc: 0.9164\n",
            "Epoch 7/10\n",
            "55000/55000 [==============================] - 18s 332us/sample - loss: 0.1451 - acc: 0.9508 - val_loss: 0.2648 - val_acc: 0.9272\n",
            "Epoch 8/10\n",
            "55000/55000 [==============================] - 18s 333us/sample - loss: 0.1385 - acc: 0.9547 - val_loss: 0.3948 - val_acc: 0.8972\n",
            "Epoch 9/10\n",
            "55000/55000 [==============================] - 18s 334us/sample - loss: 0.1231 - acc: 0.9584 - val_loss: 0.3694 - val_acc: 0.9170\n",
            "Epoch 10/10\n",
            "55000/55000 [==============================] - 18s 331us/sample - loss: 0.1163 - acc: 0.9617 - val_loss: 0.3136 - val_acc: 0.9252\n"
          ],
          "name": "stdout"
        },
        {
          "output_type": "display_data",
          "data": {
            "image/png": "[encoded data removed]",
            "text/plain": [
              "<Figure size 576x360 with 1 Axes>"
            ]
          },
          "metadata": {
            "tags": []
          }
        }
      ]
    },
    {
      "cell_type": "code",
      "metadata": {
        "id": "bcoio_f6MY62",
        "colab_type": "code",
        "colab": {
          "base_uri": "https://localhost:8080/",
          "height": 71
        },
        "outputId": "83fe22de-e35d-46dd-b38a-b20d09f10e65"
      },
      "source": [
        "print('\\n# Evaluate on test data')\n",
        "results = model.evaluate(X_test, y_test, batch_size=128, verbose=0)\n",
        "print('test loss, test acc:', results)"
      ],
      "execution_count": 14,
      "outputs": [
        {
          "output_type": "stream",
          "text": [
            "\n",
            "# Evaluate on test data\n",
            "test loss, test acc: [53.52675024414062, 0.8167]\n"
          ],
          "name": "stdout"
        }
      ]
    },
    {
      "cell_type": "code",
      "metadata": {
        "id": "-Mc94Ds7OHbB",
        "colab_type": "code",
        "colab": {}
      },
      "source": [
        ""
      ],
      "execution_count": 0,
      "outputs": []
    }
  ]
}